{
  "nbformat": 4,
  "nbformat_minor": 0,
  "metadata": {
    "colab": {
      "name": "Jupyter experiment.ipynb",
      "provenance": [],
      "authorship_tag": "ABX9TyP87SrTh2oLHbLHWWIrIlWD",
      "include_colab_link": true
    },
    "kernelspec": {
      "name": "python3",
      "display_name": "Python 3"
    },
    "language_info": {
      "name": "python"
    }
  },
  "cells": [
    {
      "cell_type": "markdown",
      "metadata": {
        "id": "view-in-github",
        "colab_type": "text"
      },
      "source": [
        "<a href=\"https://colab.research.google.com/github/omidmazi/github-slideshow/blob/master/Jupyter_experiment.ipynb\" target=\"_parent\"><img src=\"https://colab.research.google.com/assets/colab-badge.svg\" alt=\"Open In Colab\"/></a>"
      ]
    },
    {
      "cell_type": "markdown",
      "metadata": {
        "id": "HvBnygwo7cK3"
      },
      "source": [
        "#Hey New World\n",
        "this is my first jupyter writing. if you like please rate me as five stars.\n",
        "##*Thank You!*\n",
        "_Please [contact!](http://) Us_\n",
        "<br>Omid co.![omid](https://en.wikipedia.org/static/images/project-logos/enwiki.png)\n"
      ]
    },
    {
      "cell_type": "code",
      "metadata": {
        "colab": {
          "base_uri": "https://localhost:8080/"
        },
        "id": "7YUt3-GIBQmK",
        "outputId": "19f808b3-7eef-43ee-8eca-37ab71aff962"
      },
      "source": [
        "print('Table of squares')\n",
        "for i in range(10):\n",
        "  print(f'{i} times {i} = {i*i}')"
      ],
      "execution_count": 4,
      "outputs": [
        {
          "output_type": "stream",
          "text": [
            "Table of squares\n",
            "0 times 0 = 0\n",
            "1 times 1 = 1\n",
            "2 times 2 = 4\n",
            "3 times 3 = 9\n",
            "4 times 4 = 16\n",
            "5 times 5 = 25\n",
            "6 times 6 = 36\n",
            "7 times 7 = 49\n",
            "8 times 8 = 64\n",
            "9 times 9 = 81\n"
          ],
          "name": "stdout"
        }
      ]
    },
    {
      "cell_type": "code",
      "metadata": {
        "colab": {
          "base_uri": "https://localhost:8080/"
        },
        "id": "-O98ICuHBsTj",
        "outputId": "d055ab2f-e704-4ca1-da38-4d68d14d09f7"
      },
      "source": [
        "%time"
      ],
      "execution_count": 5,
      "outputs": [
        {
          "output_type": "stream",
          "text": [
            "CPU times: user 4 µs, sys: 0 ns, total: 4 µs\n",
            "Wall time: 8.82 µs\n"
          ],
          "name": "stdout"
        }
      ]
    }
  ]
}
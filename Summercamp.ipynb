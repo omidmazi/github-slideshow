{
  "nbformat": 4,
  "nbformat_minor": 0,
  "metadata": {
    "colab": {
      "name": "Summercamp.ipynb",
      "provenance": [],
      "collapsed_sections": [],
      "mount_file_id": "1QZU9MPeeDF7TCKVqIpV2kTliae2Tq4r3",
      "authorship_tag": "ABX9TyPqGzzV42wX+2GECScs/kXC",
      "include_colab_link": true
    },
    "kernelspec": {
      "name": "python3",
      "display_name": "Python 3"
    },
    "language_info": {
      "name": "python"
    }
  },
  "cells": [
    {
      "cell_type": "markdown",
      "metadata": {
        "id": "view-in-github",
        "colab_type": "text"
      },
      "source": [
        "<a href=\"https://colab.research.google.com/github/omidmazi/github-slideshow/blob/master/Summercamp.ipynb\" target=\"_parent\"><img src=\"https://colab.research.google.com/assets/colab-badge.svg\" alt=\"Open In Colab\"/></a>"
      ]
    },
    {
      "cell_type": "code",
      "metadata": {
        "id": "VmeL01EKkRY-"
      },
      "source": [
        "import pandas as pd\n",
        "import numpy as np\n",
        "import csv"
      ],
      "execution_count": null,
      "outputs": []
    },
    {
      "cell_type": "code",
      "metadata": {
        "id": "Dy8IFCH_ozPZ"
      },
      "source": [
        "df = pd.read_csv('/content/drive/MyDrive/Summer Camp Task Data.csv',sep=';')\n",
        "df"
      ],
      "execution_count": null,
      "outputs": []
    },
    {
      "cell_type": "code",
      "metadata": {
        "id": "h8Bo4IpeHPa6"
      },
      "source": [
        "df['count'] = df['tokens'].str.len()"
      ],
      "execution_count": null,
      "outputs": []
    },
    {
      "cell_type": "code",
      "metadata": {
        "id": "nOTS-75QS481"
      },
      "source": [
        "dark_query_percent=df.loc[(df['count'] < 89.0) & (df['post_page_offset'] ==0 )]\n",
        "dark_query_percent"
      ],
      "execution_count": null,
      "outputs": []
    },
    {
      "cell_type": "code",
      "metadata": {
        "id": "PqLt8l2IUp07"
      },
      "source": [
        "\n",
        "query_bounce_rate=df.groupby(['source_event_id'])\n",
        "query_bounce_rate\n"
      ],
      "execution_count": null,
      "outputs": []
    },
    {
      "cell_type": "code",
      "metadata": {
        "id": "FijkFgyskw-u"
      },
      "source": [
        "first=df[df['action']=='click_post'].groupby('source_event_id').agg(click_post_count=pd.NamedAgg(column=\"action\",aggfunc='count'))\n"
      ],
      "execution_count": null,
      "outputs": []
    },
    {
      "cell_type": "code",
      "metadata": {
        "id": "gvQ7pa5Ltvyo"
      },
      "source": [
        "first2=df[df['action']=='load_post_page'].groupby('source_event_id').agg(load_post_count=pd.NamedAgg(column=\"action\",aggfunc='count'))"
      ],
      "execution_count": null,
      "outputs": []
    },
    {
      "cell_type": "code",
      "metadata": {
        "id": "vNBhF1JQykat"
      },
      "source": [
        "asl=df.groupby(\n",
        "    ['source_event_id', 'action']\n",
        ").agg(\n",
        "        action_count = pd.NamedAgg(column='action',aggfunc='count'),\n",
        ")"
      ],
      "execution_count": null,
      "outputs": []
    }
  ]
}
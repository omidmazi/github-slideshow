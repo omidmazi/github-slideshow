{
  "nbformat": 4,
  "nbformat_minor": 0,
  "metadata": {
    "colab": {
      "name": "Fashion-MNIST Model.ipynb",
      "provenance": [],
      "collapsed_sections": [],
      "authorship_tag": "ABX9TyMyba1x/UgKRwDnCEmiqUwg",
      "include_colab_link": true
    },
    "kernelspec": {
      "name": "python3",
      "display_name": "Python 3"
    },
    "language_info": {
      "name": "python"
    },
    "accelerator": "GPU"
  },
  "cells": [
    {
      "cell_type": "markdown",
      "metadata": {
        "id": "view-in-github",
        "colab_type": "text"
      },
      "source": [
        "<a href=\"https://colab.research.google.com/github/omidmazi/github-slideshow/blob/master/Fashion_MNIST_Model.ipynb\" target=\"_parent\"><img src=\"https://colab.research.google.com/assets/colab-badge.svg\" alt=\"Open In Colab\"/></a>"
      ]
    },
    {
      "cell_type": "code",
      "metadata": {
        "id": "LWBfelu5pz0y"
      },
      "source": [
        "%tensorflow_version 2.x"
      ],
      "execution_count": 31,
      "outputs": []
    },
    {
      "cell_type": "code",
      "metadata": {
        "id": "UTq_09eUlKjt"
      },
      "source": [
        "from tensorflow.keras.datasets import fashion_mnist\n",
        "from tensorflow.keras.models import Sequential\n",
        "from tensorflow.keras.layers import Dense, Dropout, Flatten\n",
        "from tensorflow.keras.layers import Conv2D, MaxPooling2D\n",
        "from tensorflow.keras import backend as K\n",
        "from tensorflow.keras.optimizers import Adam\n",
        "from matplotlib import pyplot as plt\n",
        "from skimage import io, transform\n",
        "import numpy as np\n",
        "import random"
      ],
      "execution_count": 32,
      "outputs": []
    },
    {
      "cell_type": "code",
      "metadata": {
        "id": "MaZNlSMRlbiI"
      },
      "source": [
        "(x_train, y_train), (x_test, y_test) = fashion_mnist.load_data()\n",
        "orig_test = x_test"
      ],
      "execution_count": 33,
      "outputs": []
    },
    {
      "cell_type": "code",
      "metadata": {
        "id": "KSEUhi4np-PU"
      },
      "source": [
        "batch_size = 128\n",
        "img_rows, img_cols = 28, 28\n",
        "num_classes = 10\n",
        "epochs = 50\n",
        "dropout = 0.5"
      ],
      "execution_count": 34,
      "outputs": []
    },
    {
      "cell_type": "code",
      "metadata": {
        "id": "yxQ0oDnooxmh"
      },
      "source": [
        "index = random.randrange(500)\n",
        "plt.imshow(orig_test[index])\n",
        "plt.title('Label: %d' % y_test[index])\n",
        "plt.show()"
      ],
      "execution_count": null,
      "outputs": []
    },
    {
      "cell_type": "code",
      "metadata": {
        "colab": {
          "base_uri": "https://localhost:8080/"
        },
        "id": "0oWJqV4lnCdw",
        "outputId": "d6f890fd-1f49-476a-baa4-f49cd5f4397d"
      },
      "source": [
        "if K.image_data_format() == 'channels_first':\n",
        "    x_train = x_train.reshape(x_train.shape[0], 1, img_rows, img_cols)\n",
        "    x_test = x_test.reshape(x_test.shape[0], 1, img_rows, img_cols)\n",
        "    input_shape = (1, img_rows, img_cols)\n",
        "else:\n",
        "    x_train = x_train.reshape(x_train.shape[0], img_rows, img_cols, 1)\n",
        "    x_test = x_test.reshape(x_test.shape[0], img_rows, img_cols, 1)\n",
        "    input_shape = (img_rows, img_cols, 1)\n",
        "    \n",
        "x_train, x_test = x_train / 255.0, x_test / 255.0\n",
        "\n",
        "print(x_train.shape[0], 'train samples')\n",
        "print(x_test.shape[0], 'test samples')"
      ],
      "execution_count": 36,
      "outputs": [
        {
          "output_type": "stream",
          "text": [
            "60000 train samples\n",
            "10000 test samples\n"
          ],
          "name": "stdout"
        }
      ]
    },
    {
      "cell_type": "code",
      "metadata": {
        "colab": {
          "base_uri": "https://localhost:8080/"
        },
        "id": "ngi98eNPrE2d",
        "outputId": "44183bc1-4623-4aa1-9692-050030cd895c"
      },
      "source": [
        "model = Sequential()\n",
        "model.add(Conv2D(32, kernel_size=(3, 3), activation='relu', input_shape=input_shape))\n",
        "model.add(Conv2D(64, (3, 3), activation='relu'))\n",
        "model.add(MaxPooling2D(pool_size=(2, 2)))\n",
        "model.add(Dropout(dropout/2))\n",
        "model.add(Flatten())\n",
        "model.add(Dense(128, activation='relu'))\n",
        "model.add(Dropout(dropout))\n",
        "model.add(Dense(num_classes, activation='softmax'))\n",
        "\n",
        "model.summary()"
      ],
      "execution_count": 37,
      "outputs": [
        {
          "output_type": "stream",
          "text": [
            "Model: \"sequential_4\"\n",
            "_________________________________________________________________\n",
            "Layer (type)                 Output Shape              Param #   \n",
            "=================================================================\n",
            "conv2d_8 (Conv2D)            (None, 26, 26, 32)        320       \n",
            "_________________________________________________________________\n",
            "conv2d_9 (Conv2D)            (None, 24, 24, 64)        18496     \n",
            "_________________________________________________________________\n",
            "max_pooling2d_4 (MaxPooling2 (None, 12, 12, 64)        0         \n",
            "_________________________________________________________________\n",
            "dropout_8 (Dropout)          (None, 12, 12, 64)        0         \n",
            "_________________________________________________________________\n",
            "flatten_4 (Flatten)          (None, 9216)              0         \n",
            "_________________________________________________________________\n",
            "dense_8 (Dense)              (None, 128)               1179776   \n",
            "_________________________________________________________________\n",
            "dropout_9 (Dropout)          (None, 128)               0         \n",
            "_________________________________________________________________\n",
            "dense_9 (Dense)              (None, 10)                1290      \n",
            "=================================================================\n",
            "Total params: 1,199,882\n",
            "Trainable params: 1,199,882\n",
            "Non-trainable params: 0\n",
            "_________________________________________________________________\n"
          ],
          "name": "stdout"
        }
      ]
    },
    {
      "cell_type": "code",
      "metadata": {
        "colab": {
          "base_uri": "https://localhost:8080/",
          "height": 1000
        },
        "id": "zTLDpEHKr5wf",
        "outputId": "308aefaa-2404-4a81-b390-9623e64481f7"
      },
      "source": [
        "model.compile(loss='sparse_categorical_crossentropy', optimizer=Adam(), metrics=['accuracy'])\n",
        "\n",
        "# Train model for a given number of epochs\n",
        "history = model.fit(x_train, y_train, batch_size=batch_size, epochs=epochs, verbose=1, validation_data=(x_test, y_test))\n",
        "\n",
        "# Evaluate model against test data\n",
        "score = model.evaluate(x_test, y_test, verbose=0)\n",
        "print('Test loss:', score[0])\n",
        "print('Test accuracy:', score[1])\n",
        "\n",
        "# summarize history for accuracy\n",
        "plt.plot(history.history['accuracy'])\n",
        "plt.plot(history.history['val_accuracy'])\n",
        "plt.title('Model accuracy')\n",
        "plt.ylabel('Accuracy')\n",
        "plt.xlabel('Epoch')\n",
        "plt.legend(['Train', 'Test'], loc='upper left')\n",
        "plt.show()"
      ],
      "execution_count": 38,
      "outputs": [
        {
          "output_type": "stream",
          "text": [
            "Epoch 1/50\n",
            "469/469 [==============================] - 8s 15ms/step - loss: 0.5529 - accuracy: 0.8030 - val_loss: 0.3489 - val_accuracy: 0.8714\n",
            "Epoch 2/50\n",
            "469/469 [==============================] - 7s 14ms/step - loss: 0.3590 - accuracy: 0.8723 - val_loss: 0.2979 - val_accuracy: 0.8868\n",
            "Epoch 3/50\n",
            "469/469 [==============================] - 7s 14ms/step - loss: 0.3069 - accuracy: 0.8883 - val_loss: 0.2680 - val_accuracy: 0.9012\n",
            "Epoch 4/50\n",
            "469/469 [==============================] - 7s 14ms/step - loss: 0.2735 - accuracy: 0.9007 - val_loss: 0.2507 - val_accuracy: 0.9086\n",
            "Epoch 5/50\n",
            "469/469 [==============================] - 7s 14ms/step - loss: 0.2502 - accuracy: 0.9090 - val_loss: 0.2363 - val_accuracy: 0.9143\n",
            "Epoch 6/50\n",
            "469/469 [==============================] - 7s 14ms/step - loss: 0.2263 - accuracy: 0.9173 - val_loss: 0.2350 - val_accuracy: 0.9132\n",
            "Epoch 7/50\n",
            "469/469 [==============================] - 7s 14ms/step - loss: 0.2099 - accuracy: 0.9232 - val_loss: 0.2270 - val_accuracy: 0.9175\n",
            "Epoch 8/50\n",
            "469/469 [==============================] - 7s 14ms/step - loss: 0.1959 - accuracy: 0.9269 - val_loss: 0.2289 - val_accuracy: 0.9188\n",
            "Epoch 9/50\n",
            "469/469 [==============================] - 7s 14ms/step - loss: 0.1814 - accuracy: 0.9313 - val_loss: 0.2209 - val_accuracy: 0.9209\n",
            "Epoch 10/50\n",
            "469/469 [==============================] - 7s 14ms/step - loss: 0.1727 - accuracy: 0.9349 - val_loss: 0.2211 - val_accuracy: 0.9239\n",
            "Epoch 11/50\n",
            "469/469 [==============================] - 7s 14ms/step - loss: 0.1606 - accuracy: 0.9400 - val_loss: 0.2173 - val_accuracy: 0.9252\n",
            "Epoch 12/50\n",
            "469/469 [==============================] - 7s 14ms/step - loss: 0.1524 - accuracy: 0.9429 - val_loss: 0.2238 - val_accuracy: 0.9227\n",
            "Epoch 13/50\n",
            "469/469 [==============================] - 7s 14ms/step - loss: 0.1428 - accuracy: 0.9460 - val_loss: 0.2145 - val_accuracy: 0.9307\n",
            "Epoch 14/50\n",
            "469/469 [==============================] - 7s 14ms/step - loss: 0.1360 - accuracy: 0.9482 - val_loss: 0.2246 - val_accuracy: 0.9293\n",
            "Epoch 15/50\n",
            "469/469 [==============================] - 7s 15ms/step - loss: 0.1274 - accuracy: 0.9519 - val_loss: 0.2166 - val_accuracy: 0.9318\n",
            "Epoch 16/50\n",
            "469/469 [==============================] - 7s 14ms/step - loss: 0.1241 - accuracy: 0.9531 - val_loss: 0.2231 - val_accuracy: 0.9297\n",
            "Epoch 17/50\n",
            "469/469 [==============================] - 7s 14ms/step - loss: 0.1151 - accuracy: 0.9562 - val_loss: 0.2241 - val_accuracy: 0.9309\n",
            "Epoch 18/50\n",
            "469/469 [==============================] - 7s 15ms/step - loss: 0.1098 - accuracy: 0.9572 - val_loss: 0.2328 - val_accuracy: 0.9319\n",
            "Epoch 19/50\n",
            "469/469 [==============================] - 7s 14ms/step - loss: 0.1038 - accuracy: 0.9609 - val_loss: 0.2349 - val_accuracy: 0.9258\n",
            "Epoch 20/50\n",
            "469/469 [==============================] - 7s 15ms/step - loss: 0.1042 - accuracy: 0.9598 - val_loss: 0.2420 - val_accuracy: 0.9321\n",
            "Epoch 21/50\n",
            "469/469 [==============================] - 7s 14ms/step - loss: 0.0980 - accuracy: 0.9623 - val_loss: 0.2401 - val_accuracy: 0.9300\n",
            "Epoch 22/50\n",
            "469/469 [==============================] - 7s 14ms/step - loss: 0.0943 - accuracy: 0.9640 - val_loss: 0.2544 - val_accuracy: 0.9285\n",
            "Epoch 23/50\n",
            "469/469 [==============================] - 7s 14ms/step - loss: 0.0906 - accuracy: 0.9656 - val_loss: 0.2524 - val_accuracy: 0.9308\n",
            "Epoch 24/50\n",
            "469/469 [==============================] - 7s 15ms/step - loss: 0.0883 - accuracy: 0.9658 - val_loss: 0.2511 - val_accuracy: 0.9326\n",
            "Epoch 25/50\n",
            "469/469 [==============================] - 7s 14ms/step - loss: 0.0861 - accuracy: 0.9670 - val_loss: 0.2715 - val_accuracy: 0.9274\n",
            "Epoch 26/50\n",
            "469/469 [==============================] - 7s 14ms/step - loss: 0.0834 - accuracy: 0.9686 - val_loss: 0.2681 - val_accuracy: 0.9313\n",
            "Epoch 27/50\n",
            "469/469 [==============================] - 7s 14ms/step - loss: 0.0799 - accuracy: 0.9690 - val_loss: 0.2641 - val_accuracy: 0.9311\n",
            "Epoch 28/50\n",
            "469/469 [==============================] - 7s 14ms/step - loss: 0.0767 - accuracy: 0.9708 - val_loss: 0.2833 - val_accuracy: 0.9304\n",
            "Epoch 29/50\n",
            "469/469 [==============================] - 7s 14ms/step - loss: 0.0747 - accuracy: 0.9720 - val_loss: 0.2977 - val_accuracy: 0.9296\n",
            "Epoch 30/50\n",
            "469/469 [==============================] - 7s 14ms/step - loss: 0.0725 - accuracy: 0.9720 - val_loss: 0.2834 - val_accuracy: 0.9288\n",
            "Epoch 31/50\n",
            "469/469 [==============================] - 7s 14ms/step - loss: 0.0716 - accuracy: 0.9724 - val_loss: 0.2835 - val_accuracy: 0.9329\n",
            "Epoch 32/50\n",
            "469/469 [==============================] - 7s 14ms/step - loss: 0.0689 - accuracy: 0.9737 - val_loss: 0.2847 - val_accuracy: 0.9306\n",
            "Epoch 33/50\n",
            "469/469 [==============================] - 7s 14ms/step - loss: 0.0696 - accuracy: 0.9729 - val_loss: 0.2925 - val_accuracy: 0.9308\n",
            "Epoch 34/50\n",
            "469/469 [==============================] - 7s 14ms/step - loss: 0.0678 - accuracy: 0.9738 - val_loss: 0.2900 - val_accuracy: 0.9311\n",
            "Epoch 35/50\n",
            "469/469 [==============================] - 7s 14ms/step - loss: 0.0640 - accuracy: 0.9747 - val_loss: 0.2981 - val_accuracy: 0.9313\n",
            "Epoch 36/50\n",
            "469/469 [==============================] - 7s 14ms/step - loss: 0.0644 - accuracy: 0.9754 - val_loss: 0.3081 - val_accuracy: 0.9303\n",
            "Epoch 37/50\n",
            "469/469 [==============================] - 7s 14ms/step - loss: 0.0641 - accuracy: 0.9753 - val_loss: 0.2715 - val_accuracy: 0.9342\n",
            "Epoch 38/50\n",
            "469/469 [==============================] - 7s 15ms/step - loss: 0.0618 - accuracy: 0.9770 - val_loss: 0.2949 - val_accuracy: 0.9323\n",
            "Epoch 39/50\n",
            "469/469 [==============================] - 7s 14ms/step - loss: 0.0598 - accuracy: 0.9771 - val_loss: 0.3105 - val_accuracy: 0.9297\n",
            "Epoch 40/50\n",
            "469/469 [==============================] - 7s 14ms/step - loss: 0.0606 - accuracy: 0.9766 - val_loss: 0.3017 - val_accuracy: 0.9329\n",
            "Epoch 41/50\n",
            "469/469 [==============================] - 7s 15ms/step - loss: 0.0576 - accuracy: 0.9776 - val_loss: 0.3327 - val_accuracy: 0.9339\n",
            "Epoch 42/50\n",
            "469/469 [==============================] - 7s 14ms/step - loss: 0.0586 - accuracy: 0.9771 - val_loss: 0.3086 - val_accuracy: 0.9338\n",
            "Epoch 43/50\n",
            "469/469 [==============================] - 7s 14ms/step - loss: 0.0561 - accuracy: 0.9789 - val_loss: 0.3242 - val_accuracy: 0.9337\n",
            "Epoch 44/50\n",
            "469/469 [==============================] - 7s 14ms/step - loss: 0.0557 - accuracy: 0.9789 - val_loss: 0.3209 - val_accuracy: 0.9349\n",
            "Epoch 45/50\n",
            "469/469 [==============================] - 7s 14ms/step - loss: 0.0529 - accuracy: 0.9797 - val_loss: 0.3137 - val_accuracy: 0.9350\n",
            "Epoch 46/50\n",
            "469/469 [==============================] - 7s 14ms/step - loss: 0.0556 - accuracy: 0.9787 - val_loss: 0.3116 - val_accuracy: 0.9359\n",
            "Epoch 47/50\n",
            "469/469 [==============================] - 7s 14ms/step - loss: 0.0522 - accuracy: 0.9801 - val_loss: 0.3184 - val_accuracy: 0.9338\n",
            "Epoch 48/50\n",
            "469/469 [==============================] - 7s 14ms/step - loss: 0.0549 - accuracy: 0.9789 - val_loss: 0.3241 - val_accuracy: 0.9337\n",
            "Epoch 49/50\n",
            "469/469 [==============================] - 7s 15ms/step - loss: 0.0538 - accuracy: 0.9796 - val_loss: 0.3102 - val_accuracy: 0.9343\n",
            "Epoch 50/50\n",
            "469/469 [==============================] - 7s 14ms/step - loss: 0.0517 - accuracy: 0.9805 - val_loss: 0.3388 - val_accuracy: 0.9326\n",
            "Test loss: 0.338827908039093\n",
            "Test accuracy: 0.9326000213623047\n"
          ],
          "name": "stdout"
        },
        {
          "output_type": "display_data",
          "data": {
            "image/png": "[encoded data removed]",
            "text/plain": [
              "<Figure size 432x288 with 1 Axes>"
            ]
          },
          "metadata": {
            "tags": [],
            "needs_background": "light"
          }
        }
      ]
    }
  ]
}